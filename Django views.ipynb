{
 "cells": [
  {
   "cell_type": "markdown",
   "metadata": {},
   "source": [
    "After connecting to database, to make it useful we need to create an views to shop it."
   ]
  },
  {
   "cell_type": "markdown",
   "metadata": {},
   "source": [
    "There is 2 ways to create views in django. There is function views and there is class views. It will render templates in views. \n",
    "\n",
    "First create a template put inside blog/templates/blog_list_view.html"
   ]
  },
  {
   "cell_type": "code",
   "execution_count": null,
   "metadata": {
    "collapsed": true
   },
   "outputs": [],
   "source": [
    "<html>\n",
    "<head><title>List View</title></head>\n",
    "<body>\n",
    "  <p>{{data}}</p>\n",
    "</body>\n",
    "</html>"
   ]
  },
  {
   "cell_type": "markdown",
   "metadata": {},
   "source": [
    "Put the following function into blog/views.py"
   ]
  },
  {
   "cell_type": "code",
   "execution_count": null,
   "metadata": {
    "collapsed": true
   },
   "outputs": [],
   "source": [
    "from django.http import HttpResponse\n",
    "from django.shortcuts import render\n",
    "\n",
    "\n",
    "def blog_list_view(requests):\n",
    "    return render(requests, \"blog_list_view.html\", {\"data\": \"something\"})"
   ]
  },
  {
   "cell_type": "markdown",
   "metadata": {},
   "source": [
    "Or you do it as a class"
   ]
  },
  {
   "cell_type": "code",
   "execution_count": null,
   "metadata": {
    "collapsed": true
   },
   "outputs": [],
   "source": [
    "from django.views import View\n",
    "from django.shortcuts import render\n",
    "\n",
    "\n",
    "class BlogListView(View):\n",
    "    def get(self, requests):\n",
    "        return render(requests, \"blog_list_view.html\", {\"data\": \"something\"})"
   ]
  },
  {
   "cell_type": "markdown",
   "metadata": {},
   "source": [
    "Before it can be used it need to be in urls.py. You can put it in codingshophouse_blog/"
   ]
  },
  {
   "cell_type": "code",
   "execution_count": null,
   "metadata": {
    "collapsed": true
   },
   "outputs": [],
   "source": [
    "from django.conf.urls import url\n",
    "from blog.views import BlogListView\n",
    "\n",
    "urlpatterns = [\n",
    "    url(r\"^$\", BlogListView.as_view(), name=\"blog-list\")\n",
    "]"
   ]
  },
  {
   "cell_type": "markdown",
   "metadata": {},
   "source": [
    "now in codingshophouse_blog/urls.py"
   ]
  },
  {
   "cell_type": "code",
   "execution_count": null,
   "metadata": {
    "collapsed": true
   },
   "outputs": [],
   "source": [
    "from django.conf.urls import url\n",
    "from django.conf.urls import include\n",
    "from django.contrib import admin\n",
    "\n",
    "urlpatterns = [\n",
    "    url(r'^admin/', admin.site.urls),\n",
    "    url(r\"^blog/\", include(\"blog.urls\"))\n",
    "]\n"
   ]
  },
  {
   "cell_type": "markdown",
   "metadata": {},
   "source": [
    "A few thing here.You just create a view, define a url to the view. From now on we will use class based views. Because there is a few shortcut. Now let's edit a few thing to make things works"
   ]
  },
  {
   "cell_type": "code",
   "execution_count": null,
   "metadata": {
    "collapsed": true
   },
   "outputs": [],
   "source": [
    "from django.views import View\n",
    "from django.shortcuts import render\n",
    "from blog.models import BlogPost\n",
    "\n",
    "\n",
    "class BlogListView(View):\n",
    "    def get(self, requests):\n",
    "        blogs = BlogPost.objects.all()\n",
    "        return render(requests, \"blog_list_view.html\", {\"blog\": blogs})"
   ]
  },
  {
   "cell_type": "markdown",
   "metadata": {},
   "source": [
    "Now let's update the template"
   ]
  },
  {
   "cell_type": "code",
   "execution_count": null,
   "metadata": {
    "collapsed": true
   },
   "outputs": [],
   "source": [
    "<html>\n",
    "<head><title>List View</title></head>\n",
    "<body>\n",
    "  {% for i in blog %}\n",
    "    <p>{{i.title}}</p>\n",
    "  {% endfor %}\n",
    "</body>\n",
    "</html>"
   ]
  },
  {
   "cell_type": "markdown",
   "metadata": {},
   "source": [
    "Now let's create a new a new read only view. "
   ]
  },
  {
   "cell_type": "code",
   "execution_count": null,
   "metadata": {
    "collapsed": true
   },
   "outputs": [],
   "source": [
    "from django.views import View\n",
    "from django.shortcuts import render\n",
    "from blog.models import BlogPost\n",
    "from django.http import Http404\n",
    "\n",
    "\n",
    "class BlogView(View):\n",
    "    def get(self, requests, blog_id):\n",
    "        try:\n",
    "            blog = BlogPost.objects.get(id=blog_id)\n",
    "        except BlogPost.DoesNotExist:\n",
    "            raise Http404(\"Does Not Exist\")\n",
    "        return render(requests, \"blog_view.html\", {\"blog\": blog})"
   ]
  },
  {
   "cell_type": "code",
   "execution_count": null,
   "metadata": {
    "collapsed": true
   },
   "outputs": [],
   "source": []
  },
  {
   "cell_type": "markdown",
   "metadata": {},
   "source": [
    "Then update blog/urls.py"
   ]
  },
  {
   "cell_type": "code",
   "execution_count": null,
   "metadata": {
    "collapsed": true
   },
   "outputs": [],
   "source": [
    "from django.conf.urls import url\n",
    "from blog.views import BlogListView\n",
    "from blog.views import BlogView\n",
    "\n",
    "urlpatterns = [\n",
    "    url(r\"^view/(?P<blog_id>\\d+)$\", BlogView.as_view(), name=\"blog-view\"),\n",
    "    url(r\"^$\", BlogListView.as_view(), name=\"blog-list\"),\n",
    "]"
   ]
  },
  {
   "cell_type": "markdown",
   "metadata": {},
   "source": [
    "Also create the template, blog/templates/blog_view.html"
   ]
  },
  {
   "cell_type": "code",
   "execution_count": null,
   "metadata": {
    "collapsed": true
   },
   "outputs": [],
   "source": [
    "<html>\n",
    "<head><title>List View</title></head>\n",
    "<body>\n",
    "    <p>{{blog.title}}</p>\n",
    "    <p>{{blog.content}}</p>\n",
    "</body>\n",
    "</html>"
   ]
  },
  {
   "cell_type": "markdown",
   "metadata": {},
   "source": [
    "Now there is one new thing you learn. You can pass parameter via urls and you can pass it like a function"
   ]
  },
  {
   "cell_type": "code",
   "execution_count": null,
   "metadata": {
    "collapsed": true
   },
   "outputs": [],
   "source": [
    "<html>\n",
    "<head><title>List View</title></head>\n",
    "<body>\n",
    "    <form action=\"\" method=\"POST\">{% csrf_token %}\n",
    "        <p><input type=\"text\" name=\"title\"></p>\n",
    "        <p><textarea name=\"content\"></textarea></p>\n",
    "        <p><input type=\"submit\" value=\"submit\"></p>\n",
    "    </form>\n",
    "</body>\n",
    "</html>"
   ]
  },
  {
   "cell_type": "markdown",
   "metadata": {},
   "source": [
    "Now create a create view"
   ]
  },
  {
   "cell_type": "code",
   "execution_count": null,
   "metadata": {
    "collapsed": true
   },
   "outputs": [],
   "source": [
    "from django.views import View\n",
    "from django.shortcuts import render\n",
    "from django.shortcuts import redirect\n",
    "from blog.models import BlogPost\n",
    "\n",
    "\n",
    "class BlogCreateView(View):\n",
    "    def get(self, requests):\n",
    "        \n",
    "        return render(requests, \"blog_create_view.html\")\n",
    "    \n",
    "    def post(self, requests):\n",
    "        form_data = requests.POST\n",
    "        blog = BlogPost()\n",
    "        \n",
    "        blog.title = form_data.get(\"title\")\n",
    "        blog.content = form_data.get(\"content\")\n",
    "        blog.save()\n",
    "\n",
    "        \n",
    "        return redirect(\"blog-view\", blog_id=blog.id)\n",
    "        "
   ]
  },
  {
   "cell_type": "markdown",
   "metadata": {},
   "source": [
    "As usual create the urls"
   ]
  },
  {
   "cell_type": "code",
   "execution_count": null,
   "metadata": {
    "collapsed": true
   },
   "outputs": [],
   "source": [
    "from django.conf.urls import url\n",
    "from blog.views import BlogListView\n",
    "from blog.views import BlogView\n",
    "from blog.views import BlogCreateView\n",
    "\n",
    "urlpatterns = [\n",
    "    url(r\"^view/(?P<blog_id>\\d+)$\", BlogView.as_view(), name=\"blog-view\"),\n",
    "    url(r\"^create$\", BlogCreateView.as_view(), name=\"blog-create\"),\n",
    "    url(r\"^$\", BlogListView.as_view(), name=\"blog-list\"),\n",
    "]"
   ]
  },
  {
   "cell_type": "markdown",
   "metadata": {},
   "source": [
    "Now let's do an edit view. Create blog/templates/blog_edit_view.html"
   ]
  },
  {
   "cell_type": "code",
   "execution_count": null,
   "metadata": {
    "collapsed": true
   },
   "outputs": [],
   "source": [
    "<html>\n",
    "<head><title>List View</title></head>\n",
    "<body>\n",
    "    <form action=\"\" method=\"POST\">{% csrf_token %}\n",
    "        <p><input type=\"text\" name=\"title\" value=\"{{blog.title}}\"></p>\n",
    "        <p><textarea name=\"content\">{{blog.content}}</textarea></p>\n",
    "        <p><input type=\"submit\" value=\"submit\"></p>\n",
    "    </form>\n",
    "</body>\n",
    "</html>"
   ]
  },
  {
   "cell_type": "markdown",
   "metadata": {},
   "source": [
    "Now add the views"
   ]
  },
  {
   "cell_type": "code",
   "execution_count": null,
   "metadata": {
    "collapsed": true
   },
   "outputs": [],
   "source": [
    "from django.views import View\n",
    "from django.shortcuts import render\n",
    "from blog.models import BlogPost\n",
    "from django.http import Http404\n",
    "\n",
    "\n",
    "\n",
    "class BlogEditView(View):\n",
    "    def get(self, requests, blog_id):\n",
    "        try:\n",
    "            blog = BlogPost.objects.get(id=blog_id)\n",
    "        except BlogPost.DoesNotExist:\n",
    "            raise Http404(\"Does Not Exist\")\n",
    "        return render(requests, \"blog_edit_view.html\", {\"blog\": blog})\n",
    "    \n",
    "    def post(self, requests, blog_id):\n",
    "        form_data = requests.POST\n",
    "        try:\n",
    "            blog = BlogPost.objects.get(id=blog_id)\n",
    "        except BlogPost.DoesNotExist:\n",
    "            raise Http404(\"Does Not Exist\")\n",
    "        blog.title = form_data.get(\"title\")\n",
    "        blog.content = form_data.get(\"content\")\n",
    "        blog.save()\n",
    "        \n",
    "        return redirect(\"blog-edit\", blog_id=blog.id)"
   ]
  },
  {
   "cell_type": "markdown",
   "metadata": {},
   "source": [
    "now add urls"
   ]
  },
  {
   "cell_type": "code",
   "execution_count": null,
   "metadata": {
    "collapsed": true
   },
   "outputs": [],
   "source": [
    "from django.conf.urls import url\n",
    "from blog.views import BlogListView\n",
    "from blog.views import BlogView\n",
    "from blog.views import BlogCreateView\n",
    "from blog.views import BlogEditView\n",
    "\n",
    "urlpatterns = [\n",
    "    url(r\"^view/(?P<blog_id>\\d+)$\", BlogView.as_view(), name=\"blog-view\"),\n",
    "    url(r\"^create$\", BlogCreateView.as_view(), name=\"blog-create\"),\n",
    "    url(r\"^edit/(?P<blog_id>\\d+)$\", BlogEditView.as_view(), name=\"blog-edit\"),\n",
    "    url(r\"^$\", BlogListView.as_view(), name=\"blog-list\"),\n",
    "]\n"
   ]
  }
 ],
 "metadata": {
  "anaconda-cloud": {},
  "kernelspec": {
   "display_name": "Python [conda env:codingshophouse2]",
   "language": "python",
   "name": "conda-env-codingshophouse2-py"
  },
  "language_info": {
   "codemirror_mode": {
    "name": "ipython",
    "version": 3
   },
   "file_extension": ".py",
   "mimetype": "text/x-python",
   "name": "python",
   "nbconvert_exporter": "python",
   "pygments_lexer": "ipython3",
   "version": "3.5.2"
  }
 },
 "nbformat": 4,
 "nbformat_minor": 2
}
