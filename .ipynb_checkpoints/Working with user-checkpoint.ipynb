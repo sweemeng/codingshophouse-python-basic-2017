{
 "cells": [
  {
   "cell_type": "markdown",
   "metadata": {
    "collapsed": true
   },
   "source": [
    "Django have a buildin user system. Let's dive in the user system first, then we going to integrate into the blog system that we build. We going to access user object on django shell with"
   ]
  },
  {
   "cell_type": "code",
   "execution_count": null,
   "metadata": {
    "collapsed": true
   },
   "outputs": [],
   "source": [
    "python manage.py shell"
   ]
  },
  {
   "cell_type": "code",
   "execution_count": null,
   "metadata": {
    "collapsed": true
   },
   "outputs": [],
   "source": [
    "from django.contrib.auth.models import User"
   ]
  },
  {
   "cell_type": "markdown",
   "metadata": {},
   "source": [
    "First thing is, django user is stored in database. It have their own set of method. Now let's create a user."
   ]
  },
  {
   "cell_type": "code",
   "execution_count": null,
   "metadata": {
    "collapsed": true
   },
   "outputs": [],
   "source": [
    "user = User.objects.create_user(\"john\", \"john.doe@example.com\", \"randompasswd\")"
   ]
  },
  {
   "cell_type": "markdown",
   "metadata": {},
   "source": [
    "you can access a user object like how you access user model. Notice the create_user is a special method for django user. "
   ]
  },
  {
   "cell_type": "code",
   "execution_count": null,
   "metadata": {
    "collapsed": true
   },
   "outputs": [],
   "source": [
    "user = User.objects.get(username=\"john\")"
   ]
  },
  {
   "cell_type": "code",
   "execution_count": null,
   "metadata": {
    "collapsed": true
   },
   "outputs": [],
   "source": [
    "user.change_password(\"icantdothatdave\")"
   ]
  },
  {
   "cell_type": "code",
   "execution_count": null,
   "metadata": {
    "collapsed": true
   },
   "outputs": [],
   "source": [
    "user.save()"
   ]
  },
  {
   "cell_type": "markdown",
   "metadata": {},
   "source": [
    "User also have concept of groups, permissions etc. We won't be using it here, it is useful for complex project.\n",
    "\n",
    "Now we have models time to use it in program. "
   ]
  },
  {
   "cell_type": "code",
   "execution_count": null,
   "metadata": {
    "collapsed": true
   },
   "outputs": [],
   "source": [
    "from django.contrib.auth import authenticate"
   ]
  },
  {
   "cell_type": "code",
   "execution_count": null,
   "metadata": {
    "collapsed": true
   },
   "outputs": [],
   "source": [
    "user = authenticated(username=\"john\", password=\"icantdothatdave\")"
   ]
  },
  {
   "cell_type": "markdown",
   "metadata": {},
   "source": [
    "Now check if user is authenticated"
   ]
  },
  {
   "cell_type": "code",
   "execution_count": null,
   "metadata": {
    "collapsed": true
   },
   "outputs": [],
   "source": [
    "if user.is_authenticated:\n",
    "    print(\"logged in\")\n",
    "else:\n",
    "    print(\"not logged in\")"
   ]
  },
  {
   "cell_type": "markdown",
   "metadata": {},
   "source": [
    "Now lets use it to a view, we mostly do following as an example, I will show you how we usually do it later. Let's do a few setup."
   ]
  },
  {
   "cell_type": "code",
   "execution_count": null,
   "metadata": {
    "collapsed": true
   },
   "outputs": [],
   "source": [
    "python manage.py startapp sillylogin"
   ]
  },
  {
   "cell_type": "markdown",
   "metadata": {},
   "source": [
    "Now create some views"
   ]
  },
  {
   "cell_type": "code",
   "execution_count": null,
   "metadata": {
    "collapsed": true
   },
   "outputs": [],
   "source": [
    "from django.views import View\n",
    "from django.shortcuts import render\n",
    "from django.shortcuts import redirect\n",
    "from django.contrib.auth.models import User\n",
    "from django.contrib.auth import authenticate\n",
    "from django.contrib.auth import login\n",
    "from django.contrib.auth import logout\n",
    "\n",
    "\n",
    "class LoginView(View):\n",
    "    def get(self, request):\n",
    "        return render(request, \"login_form.html\")\n",
    "\n",
    "    def post(self, request):\n",
    "        form_data = request.POST\n",
    "        username = form_data.get(\"username\")\n",
    "        password = form_data.get(\"password\")\n",
    "\n",
    "        user = authenticate(username=username, password=password)\n",
    "\n",
    "        if user:\n",
    "            login(request, user)\n",
    "            return redirect(\"silly-loggedin-view\")\n",
    "        return render(request, \"login_error.html\")\n",
    "\n",
    "\n",
    "class LoggedInView(View):\n",
    "    def get(self, request):\n",
    "        if request.user.is_authenticated:\n",
    "            return render(request, \"loggedin_view.html\", {\"status\": \"logged in\"})\n",
    "        return render(request, \"loggedin_view.html\", {\"status\": \"not login\"})\n",
    "\n",
    "\n",
    "class RegistrationView(View):\n",
    "    def get(self, request):\n",
    "        return render(request, \"registration_form.html\")\n",
    "\n",
    "    def post(self, request):\n",
    "        form_data = request.POST\n",
    "        username = form_data.get(\"username\")\n",
    "        password = form_data.get(\"password\")\n",
    "        email = form_data.get(\"email\")\n",
    "        try:\n",
    "            user = User.objects.create_user(username, email, password)\n",
    "            return redirect(\"silly-login-view\")\n",
    "        except Except as e:\n",
    "            s = str(e)\n",
    "            return render(request, \"registration_form.html\", {\"error_msg\", s})\n",
    "\n",
    "\n",
    "class LogoutView(View):\n",
    "    def get(self, request):\n",
    "        return redirect(\"silly-login-view\")\n"
   ]
  },
  {
   "cell_type": "markdown",
   "metadata": {},
   "source": [
    "Before we go on let's look at vew code. Look at LoggedInView. Notice there is a request.user. It is effectively user stored in request after you login. Sometime it just stored as anonymmouse user if not. I uses session feature in browser. \n",
    "\n",
    "Also notice that user object is use like model. Because it is but with some custom methods. "
   ]
  },
  {
   "cell_type": "markdown",
   "metadata": {},
   "source": [
    "Now create some template, first create sillylogin/templates/login_form.html. We will not use template inheritance here. "
   ]
  },
  {
   "cell_type": "code",
   "execution_count": null,
   "metadata": {
    "collapsed": true
   },
   "outputs": [],
   "source": [
    "<html>\n",
    "<head><title>Login form</title></head>\n",
    "<body>\n",
    "    <form action=\"\" method=\"POST\">{% csrf_token %}\n",
    "        <p><label for=\"username\">Username:</label><input type=\"text\" name=\"username\"></p>\n",
    "        <p><label for=\"password\">Password:</label><input type=\"password\" name=\"password\"></p>\n",
    "        <p><input type=\"submit\" value=\"login\"></p>\n",
    "    </form>\n",
    "</body>\n",
    "</html>"
   ]
  },
  {
   "cell_type": "markdown",
   "metadata": {},
   "source": [
    "Now create a sillylogin/templates/loggedin_view.html."
   ]
  },
  {
   "cell_type": "code",
   "execution_count": null,
   "metadata": {
    "collapsed": true
   },
   "outputs": [],
   "source": [
    "<html>\n",
    "<head><title>Login form</title></head>\n",
    "<body>\n",
    "    <p>{% if request.user.is_authenticated %}Welcome {{ request.user.username}}{% else %}Hello stranger{% endif %}</p>\n",
    "    <p>{{status}}</p>\n",
    "</body>\n",
    "</html>\n"
   ]
  },
  {
   "cell_type": "markdown",
   "metadata": {},
   "source": [
    "Notice that request.user is pass to template, it is enabled by default. You can check for user in templates"
   ]
  },
  {
   "cell_type": "markdown",
   "metadata": {},
   "source": [
    "Now create a sillylogin/templates/registration_form.html"
   ]
  },
  {
   "cell_type": "code",
   "execution_count": null,
   "metadata": {
    "collapsed": true
   },
   "outputs": [],
   "source": [
    "<html>\n",
    "<head><title>Register form</title></head>\n",
    "<body>\n",
    "    <p>{{error_msg}}</p>\n",
    "    <form action=\"\" method=\"POST\">{% csrf_token %}\n",
    "        <p><label for=\"username\">Username:</label><input type=\"text\" name=\"username\"></p>\n",
    "        <p><label for=\"password\">Password:</label><input type=\"password\" name=\"password\"></p>\n",
    "        <p><label for=\"email\">Email:</label><input type=\"text\" name=\"email\"></p>\n",
    "        <p><input type=\"submit\" value=\"register\"></p>\n",
    "    </form>\n",
    "</body>\n",
    "</html>\n"
   ]
  },
  {
   "cell_type": "markdown",
   "metadata": {},
   "source": [
    "Now have all the sillylogin/urls.py ready"
   ]
  },
  {
   "cell_type": "code",
   "execution_count": null,
   "metadata": {
    "collapsed": true
   },
   "outputs": [],
   "source": [
    "from django.conf.urls import url\n",
    "from sillylogin.views import *\n",
    "\n",
    "urlpatterns = [\n",
    "    url(r\"^login\", LoginView.as_view(), name=\"silly-login-view\"),\n",
    "    url(r\"^logout\", LogoutView.as_view(), name=\"silly-logout-view\"),\n",
    "    url(r\"^register\", RegistrationView.as_view(), name=\"silly-registration-view\"),\n",
    "    url(r\"^$\", LoggedInView.as_view(), name=\"silly-loggedin-view\"),\n",
    "]\n"
   ]
  },
  {
   "cell_type": "markdown",
   "metadata": {},
   "source": [
    "Now add a line to codingshophouse_blog/urls.py so that it look like"
   ]
  },
  {
   "cell_type": "code",
   "execution_count": null,
   "metadata": {
    "collapsed": true
   },
   "outputs": [],
   "source": [
    "from django.conf.urls import url\n",
    "from django.conf.urls import include\n",
    "from django.contrib import admin\n",
    "\n",
    "urlpatterns = [\n",
    "    url(r'^admin/', admin.site.urls),\n",
    "    url(r\"^blog/\", include(\"blog.urls\")),\n",
    "    url(r\"^sillylogin/\", include(\"sillylogin.urls\")),\n",
    "]\n"
   ]
  },
  {
   "cell_type": "markdown",
   "metadata": {},
   "source": [
    "Then add a line to settings.py INSTALLED_APP section"
   ]
  },
  {
   "cell_type": "code",
   "execution_count": null,
   "metadata": {
    "collapsed": true
   },
   "outputs": [],
   "source": [
    "INSTALLED_APPS = [\n",
    "    'django.contrib.admin',\n",
    "    'django.contrib.auth',\n",
    "    'django.contrib.contenttypes',\n",
    "    'django.contrib.sessions',\n",
    "    'django.contrib.messages',\n",
    "    'django.contrib.staticfiles',\n",
    "    'blog',\n",
    "    'sillylogin',\n",
    "]"
   ]
  },
  {
   "cell_type": "markdown",
   "metadata": {},
   "source": [
    "The above code is mostly to show how it work behind the scene. In reality django have a lot of short cut that make everything easy. But as usual setup needed.\n",
    "\n",
    "First create a template for login. Django auth models already have form defined, so we won't be needing to create a new form. First create a new directory"
   ]
  },
  {
   "cell_type": "code",
   "execution_count": null,
   "metadata": {
    "collapsed": true
   },
   "outputs": [],
   "source": [
    "mkdir templates/registration"
   ]
  },
  {
   "cell_type": "markdown",
   "metadata": {},
   "source": [
    "Then add a template. template/registration/login.html"
   ]
  },
  {
   "cell_type": "code",
   "execution_count": null,
   "metadata": {
    "collapsed": true
   },
   "outputs": [],
   "source": [
    "{% extends 'base.html' %}\n",
    "\n",
    "{% block title %}Login{% endblock %}\n",
    "\n",
    "{% block content %}\n",
    "  <h2>Login</h2>\n",
    "  <form method=\"post\">\n",
    "    {% csrf_token %}\n",
    "    {{ form.as_p }}\n",
    "    <button type=\"submit\">Login</button>\n",
    "  </form>\n",
    "{% endblock %}"
   ]
  },
  {
   "cell_type": "markdown",
   "metadata": {},
   "source": [
    "Now create a template template/registration/logout.html"
   ]
  },
  {
   "cell_type": "code",
   "execution_count": null,
   "metadata": {
    "collapsed": true
   },
   "outputs": [],
   "source": [
    "% extends 'base.html' %}\n",
    "\n",
    "{% block title %}Logged out{% endblock %}\n",
    "\n",
    "{% block content %}\n",
    "  <p>Logout</p>\n",
    "{% endblock %}"
   ]
  },
  {
   "cell_type": "markdown",
   "metadata": {},
   "source": [
    "Now update the urls.py"
   ]
  },
  {
   "cell_type": "code",
   "execution_count": null,
   "metadata": {
    "collapsed": true
   },
   "outputs": [],
   "source": [
    "from django.conf.urls import url\n",
    "from django.conf.urls import include\n",
    "from django.contrib import admin\n",
    "from django.contrib.auth import views as auth_views\n",
    "\n",
    "urlpatterns = [\n",
    "    url(r'^admin/', admin.site.urls),\n",
    "    url(r\"^blog/\", include(\"blog.urls\")),\n",
    "    url(r\"^sillylogin/\", include(\"sillylogin.urls\")),\n",
    "    url(r\"^login/\", auth_views.login_views),\n",
    "    url(r\"^logout/\", auth_views.logout_views),\n",
    "]\n"
   ]
  },
  {
   "cell_type": "markdown",
   "metadata": {},
   "source": [
    "To actually use it you use a function called login_required. 2 way to tell a view require login. 1 way is to do at urls. The other is do it at class. Let do it in class"
   ]
  },
  {
   "cell_type": "markdown",
   "metadata": {},
   "source": [
    "Django provide afew thing like change password etc. I won't show here. It does not provide a registration view, that's where you can use django registration. There is a few, there is django registration and django registration redux, they do the same thing, but do it different ways. I don't know which is better, but I like django registration"
   ]
  },
  {
   "cell_type": "code",
   "execution_count": null,
   "metadata": {
    "collapsed": true
   },
   "outputs": [],
   "source": [
    "pip install django_registration"
   ]
  },
  {
   "cell_type": "markdown",
   "metadata": {},
   "source": [
    "Now create a template, template/registration/registration_form.html"
   ]
  },
  {
   "cell_type": "code",
   "execution_count": null,
   "metadata": {
    "collapsed": true
   },
   "outputs": [],
   "source": [
    "{% extends 'base.html' %}\n",
    "\n",
    "{% block title %}Registration{% endblock %}\n",
    "\n",
    "{% block content %}\n",
    "  <form method=\"post\">\n",
    "    {% csrf_token %}\n",
    "    {{ form.as_p }}\n",
    "    <button type=\"submit\">Login</button>\n",
    "  </form>\n",
    "{% endblock %}\n"
   ]
  },
  {
   "cell_type": "markdown",
   "metadata": {},
   "source": [
    "Now add urls"
   ]
  },
  {
   "cell_type": "code",
   "execution_count": null,
   "metadata": {
    "collapsed": true
   },
   "outputs": [],
   "source": [
    "from django.conf.urls import url\n",
    "from django.conf.urls import include\n",
    "from django.contrib import admin\n",
    "from django.contrib.auth import views as auth_views\n",
    "\n",
    "\n",
    "urlpatterns = [\n",
    "    url(r'^admin/', admin.site.urls),\n",
    "    url(r\"^blog/\", include(\"blog.urls\")),\n",
    "    url(r\"^sillylogin/\", include(\"sillylogin.urls\")),\n",
    "    url(r\"^login/\", auth_views.login),\n",
    "    url(r\"^logout/\", auth_views.logout),\n",
    "    url(r'^accounts/', include('registration.backends.simple.urls')),\n",
    "]\n"
   ]
  },
  {
   "cell_type": "markdown",
   "metadata": {},
   "source": [
    "The registration will redirect to non-existence page. And I am lazy to change the success url, it require writing more code. So let's clean up and redo the urls shall we"
   ]
  },
  {
   "cell_type": "code",
   "execution_count": null,
   "metadata": {
    "collapsed": true
   },
   "outputs": [],
   "source": [
    "from django.conf.urls import url\n",
    "from django.conf.urls import include\n",
    "from django.contrib import admin\n",
    "from django.contrib.auth import views as auth_views\n",
    "\n",
    "\n",
    "urlpatterns = [\n",
    "    url(r'^admin/', admin.site.urls),\n",
    "    url(r'^accounts/', include('registration.backends.simple.urls')),\n",
    "    url(r\"\", include(\"blog.urls\")),\n",
    "]"
   ]
  },
  {
   "cell_type": "markdown",
   "metadata": {},
   "source": [
    "Other than I lazy to do password reset page, we are pretty much done!"
   ]
  },
  {
   "cell_type": "code",
   "execution_count": null,
   "metadata": {
    "collapsed": true
   },
   "outputs": [],
   "source": []
  }
 ],
 "metadata": {
  "anaconda-cloud": {},
  "kernelspec": {
   "display_name": "Python [conda env:codingshophouse2]",
   "language": "python",
   "name": "conda-env-codingshophouse2-py"
  },
  "language_info": {
   "codemirror_mode": {
    "name": "ipython",
    "version": 3
   },
   "file_extension": ".py",
   "mimetype": "text/x-python",
   "name": "python",
   "nbconvert_exporter": "python",
   "pygments_lexer": "ipython3",
   "version": "3.5.2"
  }
 },
 "nbformat": 4,
 "nbformat_minor": 2
}
