{
 "cells": [
  {
   "cell_type": "markdown",
   "metadata": {},
   "source": [
    "# Working with database\n",
    "\n",
    "Let's start with DB. Django bundled with an ORM, the big idea is easy, but it is pretty magical I can't really explain how it really work. It is pretty easy to use in my opinion. The catch is, it does not always do things correctly. \n",
    "\n",
    "Let's start with example. In the blog, one of the thing you need to do is to create and store a blog post, put it inside blog/models.py"
   ]
  },
  {
   "cell_type": "code",
   "execution_count": null,
   "metadata": {
    "collapsed": false
   },
   "outputs": [],
   "source": [
    "from django.db import models\n",
    "\n",
    "\n",
    "class BlogPost(models.Model):\n",
    "    title = models.CharField(max_length=100)\n",
    "    content = models.TextField()"
   ]
  },
  {
   "cell_type": "markdown",
   "metadata": {},
   "source": [
    "What we have here is a definition of a model. A model tend to mirror what is inside a database. But it can do a lot more. Let's start with basic, a model is a class, it must have a field. It can have many.\n",
    "\n",
    "But here is one catch, the table doesn't exist yet. This is where you need to use the command\n",
    "\n"
   ]
  },
  {
   "cell_type": "markdown",
   "metadata": {},
   "source": [
    "`python manage.py makemigratioin`\n"
   ]
  },
  {
   "cell_type": "markdown",
   "metadata": {},
   "source": [
    "`python manage.py migrate`"
   ]
  },
  {
   "cell_type": "markdown",
   "metadata": {},
   "source": [
    "## Working with models\n",
    "Once it is created in database. Now you can work on the data. Let's start with create. "
   ]
  },
  {
   "cell_type": "code",
   "execution_count": null,
   "metadata": {
    "collapsed": true
   },
   "outputs": [],
   "source": [
    "from blog.models import BlogPost"
   ]
  },
  {
   "cell_type": "code",
   "execution_count": null,
   "metadata": {
    "collapsed": true
   },
   "outputs": [],
   "source": [
    "blog_post = BlogPost.objects.create(title=\"First Post!\", content=\"First post\")"
   ]
  },
  {
   "cell_type": "markdown",
   "metadata": {},
   "source": [
    "Now you have a copy of the object, let me show you how to work with data"
   ]
  },
  {
   "cell_type": "code",
   "execution_count": null,
   "metadata": {
    "collapsed": false
   },
   "outputs": [],
   "source": [
    "print(blog_post.title)"
   ]
  },
  {
   "cell_type": "code",
   "execution_count": null,
   "metadata": {
    "collapsed": true
   },
   "outputs": [],
   "source": [
    "print(blog_post.content)"
   ]
  },
  {
   "cell_type": "code",
   "execution_count": null,
   "metadata": {
    "collapsed": true
   },
   "outputs": [],
   "source": [
    "print(blog_post.id)"
   ]
  },
  {
   "cell_type": "markdown",
   "metadata": {},
   "source": [
    "let's create another one. I will do it another style to show a point"
   ]
  },
  {
   "cell_type": "code",
   "execution_count": null,
   "metadata": {
    "collapsed": false
   },
   "outputs": [],
   "source": [
    "blog_post = BlogPost()\n",
    "blog_post.title = \"yet another post\"\n",
    "blog_post.content = \"something here\"\n",
    "blog_post.save()"
   ]
  },
  {
   "cell_type": "markdown",
   "metadata": {},
   "source": [
    "Now we can work more"
   ]
  },
  {
   "cell_type": "code",
   "execution_count": null,
   "metadata": {
    "collapsed": true
   },
   "outputs": [],
   "source": [
    "all_post = BlogPost.objects.all()\n",
    "for post in all_post:\n",
    "    print(post.title)\n",
    "    print(post.content)"
   ]
  },
  {
   "cell_type": "code",
   "execution_count": null,
   "metadata": {
    "collapsed": true
   },
   "outputs": [],
   "source": [
    "post = BlogPost.objects.get(id=1)\n",
    "print(post.title)\n",
    "print(post.content)\n",
    "post.delete()"
   ]
  },
  {
   "cell_type": "code",
   "execution_count": null,
   "metadata": {
    "collapsed": true
   },
   "outputs": [],
   "source": [
    "posts = BlogPost.objects.filter(title__contain=\"another\")\n",
    "for post in posts:\n",
    "    print(post.title)"
   ]
  },
  {
   "cell_type": "markdown",
   "metadata": {},
   "source": [
    "## Really you do not want to use a python shell to manage you data\n",
    "That's where django admin comes in. The url is /admin"
   ]
  },
  {
   "cell_type": "markdown",
   "metadata": {},
   "source": [
    "But you need to create an admin user first"
   ]
  },
  {
   "cell_type": "markdown",
   "metadata": {},
   "source": [
    "`python manage.py createsuperuser`"
   ]
  },
  {
   "cell_type": "markdown",
   "metadata": {},
   "source": [
    "You will notice that there is no blogpost. Add something to blog/admin.py. "
   ]
  },
  {
   "cell_type": "code",
   "execution_count": null,
   "metadata": {
    "collapsed": true
   },
   "outputs": [],
   "source": [
    "from django.contrib import admin\n",
    "from blog.models import BlogPost\n",
    "\n",
    "# Register your models here.\n",
    "admin.site.register(BlogPost)\n"
   ]
  },
  {
   "cell_type": "markdown",
   "metadata": {},
   "source": [
    "Now you should see the admin. Final thing, the display is not meaningful. Let add one more thing before I stop"
   ]
  },
  {
   "cell_type": "code",
   "execution_count": null,
   "metadata": {
    "collapsed": true
   },
   "outputs": [],
   "source": [
    "from django.db import models\n",
    "\n",
    "\n",
    "class BlogPost(models.Model):\n",
    "    title = models.CharField(max_length=100)\n",
    "    content = models.TextField()\n",
    "    \n",
    "    def __str__(self):\n",
    "        return self.title"
   ]
  },
  {
   "cell_type": "markdown",
   "metadata": {},
   "source": [
    "Adding a new method won't change the database so no migration needed"
   ]
  },
  {
   "cell_type": "code",
   "execution_count": null,
   "metadata": {
    "collapsed": true
   },
   "outputs": [],
   "source": []
  }
 ],
 "metadata": {
  "anaconda-cloud": {},
  "kernelspec": {
   "display_name": "Python [conda env:codingshophouse2]",
   "language": "python",
   "name": "conda-env-codingshophouse2-py"
  },
  "language_info": {
   "codemirror_mode": {
    "name": "ipython",
    "version": 3
   },
   "file_extension": ".py",
   "mimetype": "text/x-python",
   "name": "python",
   "nbconvert_exporter": "python",
   "pygments_lexer": "ipython3",
   "version": "3.5.2"
  }
 },
 "nbformat": 4,
 "nbformat_minor": 2
}
