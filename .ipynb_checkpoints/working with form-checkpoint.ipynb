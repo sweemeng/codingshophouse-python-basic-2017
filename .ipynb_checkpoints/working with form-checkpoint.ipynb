{
 "cells": [
  {
   "cell_type": "markdown",
   "metadata": {},
   "source": [
    "Last week we form on form with as_p. Today we try to render the form even design one ourself. "
   ]
  },
  {
   "cell_type": "markdown",
   "metadata": {},
   "source": [
    "The reason is, the point of doing form individually is so that we can theme it, like when we use bootstrap. "
   ]
  },
  {
   "cell_type": "markdown",
   "metadata": {},
   "source": [
    "Let's do an extra setup first. "
   ]
  },
  {
   "cell_type": "code",
   "execution_count": null,
   "metadata": {
    "collapsed": true
   },
   "outputs": [],
   "source": [
    "pip install django-widget-tweaks"
   ]
  },
  {
   "cell_type": "markdown",
   "metadata": {},
   "source": [
    "Then change the installed app section in settings.py to "
   ]
  },
  {
   "cell_type": "code",
   "execution_count": null,
   "metadata": {
    "collapsed": true
   },
   "outputs": [],
   "source": [
    "INSTALLED_APPS = [\n",
    "    'django.contrib.admin',\n",
    "    'django.contrib.auth',\n",
    "    'django.contrib.contenttypes',\n",
    "    'django.contrib.sessions',\n",
    "    'django.contrib.messages',\n",
    "    'django.contrib.staticfiles',\n",
    "    'blog',\n",
    "    'widget_tweaks',\n",
    "]\n"
   ]
  },
  {
   "cell_type": "markdown",
   "metadata": {},
   "source": [
    "Now let's change the template. templates/base.html. "
   ]
  },
  {
   "cell_type": "code",
   "execution_count": null,
   "metadata": {
    "collapsed": true
   },
   "outputs": [],
   "source": [
    "<!DOCTYPE html>\n",
    "<html lang=\"en\">\n",
    "    <head>\n",
    "        <meta charset=\"utf-8\">\n",
    "        <meta http-equiv=\"X-UA-Compatible\" content=\"IE=edge\">\n",
    "        <meta name=\"viewport\" content=\"width=device-width, initial-scale=1\">\n",
    "        <title>{% block title %}{% endblock %}</title>\n",
    "        <link rel=\"stylesheet\" href=\"https://maxcdn.bootstrapcdn.com/bootstrap/3.3.7/css/bootstrap.min.css\" integrity=\"sha384-BVYiiSIFeK1dGmJRAkycuHAHRg32OmUcww7on3RYdg4Va+PmSTsz/K68vbdEjh4u\" crossorigin=\"anonymous\">\n",
    "        {% block extra_head %} {% endblock %}\n",
    "    </head>\n",
    "    <body>\n",
    "        <div class=\"content\">\n",
    "        {% block content %}{% endblock %}\n",
    "        </div>\n",
    "        <script src=\"https://ajax.googleapis.com/ajax/libs/jquery/1.12.4/jquery.min.js\"></script>\n",
    "        <script src=\"https://maxcdn.bootstrapcdn.com/bootstrap/3.3.7/js/bootstrap.min.js\" integrity=\"sha384-Tc5IQib027qvyjSMfHjOMaLkfuWVxZxUPnCJA7l2mCWNIpG9mGCD8wGNIcPD7Txa\" crossorigin=\"anonymous\"></script>\n",
    "    </body>\n",
    "</html>"
   ]
  },
  {
   "cell_type": "markdown",
   "metadata": {},
   "source": [
    "Now let's decorate some existing form first. First with registration form templates/registration/registration_form.html"
   ]
  },
  {
   "cell_type": "code",
   "execution_count": null,
   "metadata": {
    "collapsed": true
   },
   "outputs": [],
   "source": [
    "{% extends 'base.html' %}\n",
    "\n",
    "{% load widget_tweaks %}\n",
    "{% block title %}Registration{% endblock %}\n",
    "{% block content %}\n",
    "    <div class=\"row\">\n",
    "        <div class=\"col-md-9\">\n",
    "            <form method=\"post\" class=\"form-horizontal\">\n",
    "                <span class=\"help-block\">\n",
    "                    {% for error in  form.non_field_errors %}\n",
    "                        {{ error }}<br/>\n",
    "                    {% endfor %}\n",
    "                </span>\n",
    "\n",
    "                {% csrf_token %}\n",
    "                <div class=\"form-group {% if form.username.errors %}has-error {% else %}has-success{% endif %}\">\n",
    "                    <label for=\"{{ form.username.id_for_label }}\">Username</label>\n",
    "                    {% render_field form.username class+=\"form-control\"%}\n",
    "                    {% if form.username.errors %}\n",
    "                    <span class=\"help-block\">\n",
    "                        {% for error in form.username.errors %}\n",
    "                            {{ error}}<br/>\n",
    "                        {% endfor %}\n",
    "                    </span>\n",
    "                    {% endif %}\n",
    "                </div>\n",
    "                <div class=\"form-group {% if form.email.errors %}has-error {% else %}has-success{% endif %}\">\n",
    "                    <label for=\"{{ form.email.id_for_label }}\">Email</label>\n",
    "                    {% render_field form.email class+=\"form-control\"%}\n",
    "                    {% if form.email.errors %}\n",
    "                    <span class=\"help-block\">\n",
    "                        {% for error in form.email.errors %}\n",
    "                            {{ error}}<br/>\n",
    "                        {% endfor %}\n",
    "                    </span>\n",
    "                    {% endif %}\n",
    "                </div>\n",
    "                <div class=\"form-group {% if form.password1.errors %}has-error {% else %}has-success{% endif %}\">\n",
    "                    <label for=\"{{ form.password1.id_for_label }}\">Password</label>\n",
    "                    {% render_field form.password1 class+=\"form-control\" %}\n",
    "                    {% if form.password1.errors %}\n",
    "                    <span class=\"help-block\">\n",
    "                        {% for error in form.password1.errors %}\n",
    "                            {{ error}}<br/>\n",
    "                        {% endfor %}\n",
    "                    </span>\n",
    "                    {% endif %}\n",
    " \n",
    "                </div>\n",
    "                <div class=\"form-group {% if form.password2.errors %}has-error {% else %}has-success{% endif %}\">\n",
    "                    <label for=\"{{ form.password2.id_for_label }}\">Repeat Password</label>\n",
    "                    {% render_field  form.password2 class+=\"form-control\" %}\n",
    "                    {% if form.password2.errors %}\n",
    "                    <span class=\"help-block\">\n",
    "                        {% for error in form.password2.errors %}\n",
    "                            {{ error}}<br/>\n",
    "                        {% endfor %}\n",
    "                    </span>\n",
    "                    {% endif %}\n",
    " \n",
    "                </div>\n",
    "                <div class=\"form-group\">\n",
    "                <button type=\"submit\" class=\"btn btn-default\">Register</button>\n",
    "                </div>\n",
    "            </form>\n",
    "        </div>\n",
    "    </div>\n",
    "{% endblock %}\n"
   ]
  },
  {
   "cell_type": "markdown",
   "metadata": {},
   "source": [
    "Now decorate the login form"
   ]
  },
  {
   "cell_type": "code",
   "execution_count": null,
   "metadata": {
    "collapsed": true
   },
   "outputs": [],
   "source": [
    "{% extends 'base.html' %}\n",
    "\n",
    "{% load widget_tweaks %}\n",
    "{% block title %}Login{% endblock %}\n",
    "\n",
    "{% block content %}\n",
    "  <h2>Login</h2>\n",
    "  <div class=\"row\">\n",
    "      <div class=\"col-md-9\">\n",
    "          <form method=\"post\">\n",
    "             {% csrf_token %}\n",
    "             <span class=\"help-block\">\n",
    "                 {% for error in  form.non_field_errors %}\n",
    "                     {{ error }}<br/>\n",
    "                 {% endfor %}\n",
    "             </span>\n",
    "             <div class=\"form-group {% if form.username.errors %}has-error {% else %}has-success{% endif %}\">\n",
    "                 <label for=\"{{ form.username.id_for_label }}\">Username</label>\n",
    "                 {% render_field form.username class+=\"form-control\" %}\n",
    "                 {% if form.username.errors %}\n",
    "                 <span class=\"help-block\">\n",
    "                     {% for error in form.username.errors %}\n",
    "                         {{error}}<br/>\n",
    "                     {% endfor %}\n",
    "                 </span>\n",
    "                 {% endif %}\n",
    "             </div>\n",
    "             <div class=\"form-group {% if form.password.errors %}has-error {% else %}has-success{% endif %}\">\n",
    "                 <label for=\"{{ form.password.id_for_label }}\">Password</label>\n",
    "                 {% render_field form.password class+=\"form-control\" %}\n",
    "                 {% if form.password.errors %}\n",
    "                 <span class=\"help-block\">\n",
    "                     {% for error in form.password.errors %}\n",
    "                         {{error}}<br/>\n",
    "                     {% endfor %}\n",
    "                 </span>\n",
    "                 {% endif %}\n",
    "             </div>\n",
    "             <button type=\"submit\">Login</button>\n",
    "          </form>\n",
    "      </div>\n",
    "  </div>\n",
    "\n",
    "{% endblock %}\n"
   ]
  },
  {
   "cell_type": "markdown",
   "metadata": {},
   "source": [
    "We going to fix the form for the blog later. For exercise. Now we design a form class for blog, then render it. "
   ]
  },
  {
   "cell_type": "code",
   "execution_count": null,
   "metadata": {
    "collapsed": true
   },
   "outputs": [],
   "source": [
    "from django import forms\n",
    "\n",
    "\n",
    "class ComplaintForm(forms.Form):\n",
    "    title = forms.CharField(label=\"title\", widget=forms.TextInput(attrs={'class': \"form-control\"}))\n",
    "    email = forms.EmailField(label=\"email\", widget=forms.TextInput(attrs={'class': \"form-control\"}))\n",
    "    content = form.CharField(widget=forms.Textarea(widget=forms.TextInput(attrs={'class': \"form-control\"}))\n"
   ]
  },
  {
   "cell_type": "markdown",
   "metadata": {},
   "source": [
    "Now we create yet another form, at blog/templates/complaint.html"
   ]
  },
  {
   "cell_type": "code",
   "execution_count": null,
   "metadata": {
    "collapsed": true
   },
   "outputs": [],
   "source": [
    "{% extends 'base.html' %}\n",
    "\n",
    "{% load widget_tweaks %}\n",
    "{% block title %}Registration{% endblock %}\n",
    "{% block content %}\n",
    "    <div class=\"row\">\n",
    "        <div class=\"col-md-9\">\n",
    "            <form method=\"post\" class=\"form-horizontal\">\n",
    "                <span class=\"help-block\">\n",
    "                    {% for error in  form.non_field_errors %}\n",
    "                        {{ error }}<br/>\n",
    "                    {% endfor %}\n",
    "                </span>\n",
    "                {% csrf_token %}\n",
    "                <div class=\"form-group {% if form.email.errors %}has-error{% else %}has-success{% endif %}\">\n",
    "                    <label for=\"{{ form.email.id_for_label }}\">{{form.email.label}}</label>\n",
    "                    {{ form.email }}\n",
    "                    {% if form.email.errors %}\n",
    "                    <span class=\"help-block\">\n",
    "                        {% for error in form.email.errors %}\n",
    "                            {{ error}}<br/>\n",
    "                        {% endfor %}\n",
    "                    </span>\n",
    "                    {% endif %}\n",
    "                </div>\n",
    "                <div class=\"form-group {% if form.title.errors %}has-error{% else %}has-success{% endif %}\">\n",
    "                    <label for=\"{{ form.title.id_for_label }}\">{{form.title.label}}</label>\n",
    "                    {{ form.title }}\n",
    "                    {% if form.title.errors %}\n",
    "                    <span class=\"help-block\">\n",
    "                        {% for error in form.title.errors %}\n",
    "                            {{ error}}<br/>\n",
    "                        {% endfor %}\n",
    "                    </span>\n",
    "                    {% endif %}\n",
    "                </div>\n",
    "                <div class=\"form-group {% if form.content.errors %}has-error{% else %}has-success{% endif %}\">\n",
    "                    <label for=\"{{ form.content.id_for_label }}\">{{form.content.label}}</label>\n",
    "                    {{ form.content }}\n",
    "                    {% if form.content.errors %}\n",
    "                    <span class=\"help-block\">\n",
    "                        {% for error in form.content.errors %}\n",
    "                            {{ error}}<br/>\n",
    "                        {% endfor %}\n",
    "                    </span>\n",
    "                    {% endif %}\n",
    "                </div>\n",
    "                <div class=\"form-group\">\n",
    "                <button type=\"submit\" class=\"btn btn-default\">Complain</button>\n",
    "                </div>\n",
    "            </form>\n",
    "        </div>\n",
    "    </div>\n",
    "{% endblock %}\n"
   ]
  },
  {
   "cell_type": "markdown",
   "metadata": {},
   "source": [
    "Now we create the view at blog/views.py. We will create a shortcut view later. Add 3 line on top of the import"
   ]
  },
  {
   "cell_type": "code",
   "execution_count": null,
   "metadata": {
    "collapsed": true
   },
   "outputs": [],
   "source": [
    "from django.views import View\n",
    "from blog.forms import ComplaintForm\n",
    "from django.shortcuts import render\n",
    "from django.shortcuts import redirect\n"
   ]
  },
  {
   "cell_type": "markdown",
   "metadata": {},
   "source": [
    "Add view to the bottom"
   ]
  },
  {
   "cell_type": "code",
   "execution_count": null,
   "metadata": {
    "collapsed": true
   },
   "outputs": [],
   "source": [
    "class ComplaintView(View):\n",
    "    def get(self, requests):\n",
    "        form = ComplaintForm()\n",
    "        return render(requests, \"complaint.html\", {\"form\":form })\n",
    "\n",
    "    def post(self, requests):\n",
    "        print(requests.POST)\n",
    "        form = ComplaintForm(requests.POST)\n",
    "        if form.is_valid():\n",
    "            # Pretend we sent an email\n",
    "            return redirect(\"/\")\n",
    "        return render(requests, \"complaint.html\", {\"form\":form})\n"
   ]
  },
  {
   "cell_type": "markdown",
   "metadata": {},
   "source": [
    "Add views to blog/urls.py"
   ]
  },
  {
   "cell_type": "code",
   "execution_count": null,
   "metadata": {
    "collapsed": true
   },
   "outputs": [],
   "source": [
    "from blog.views import ComplaintView"
   ]
  },
  {
   "cell_type": "code",
   "execution_count": null,
   "metadata": {
    "collapsed": true
   },
   "outputs": [],
   "source": [
    "url(r\"^complaint$\", ComplaintView.as_view(), name=\"complaint-view\"),"
   ]
  },
  {
   "cell_type": "markdown",
   "metadata": {},
   "source": [
    "The generic view for form view is"
   ]
  },
  {
   "cell_type": "code",
   "execution_count": null,
   "metadata": {
    "collapsed": false
   },
   "outputs": [],
   "source": [
    "from django.views.generic.edit import FormView\n",
    "\n",
    "class ComplaintView(FormView):\n",
    "    template_name = \"complaint.html\"\n",
    "    form_class = ComplaintForm\n",
    "    success_url = \"/\"\n",
    "\n",
    "    def form_valid(self, form):\n",
    "        # Pretend we send email\n",
    "        return super().form_valid(form)"
   ]
  },
  {
   "cell_type": "markdown",
   "metadata": {},
   "source": [
    "You can also generate form based on models. Notice that the field is somewhat the same. "
   ]
  },
  {
   "cell_type": "code",
   "execution_count": null,
   "metadata": {
    "collapsed": true
   },
   "outputs": [],
   "source": [
    "class BlogPostForm(forms.ModelForm):\n",
    "    class Meta:\n",
    "        models = BlogPost\n",
    "        fields = [ 'title', 'content' ]\n"
   ]
  },
  {
   "cell_type": "markdown",
   "metadata": {},
   "source": [
    "I am not going to views"
   ]
  },
  {
   "cell_type": "code",
   "execution_count": null,
   "metadata": {
    "collapsed": true
   },
   "outputs": [],
   "source": [
    "blog_post = BlogPostForm(requests.POST)\n",
    "blog_post.save()"
   ]
  },
  {
   "cell_type": "code",
   "execution_count": null,
   "metadata": {
    "collapsed": true
   },
   "outputs": [],
   "source": [
    "blog_post = BlogPost.object.get(id=1)\n",
    "form = BlogPostForm(requests.POST, instance=blog_post)\n",
    "form.save()"
   ]
  }
 ],
 "metadata": {
  "anaconda-cloud": {},
  "kernelspec": {
   "display_name": "Python [conda env:codingshophouse2]",
   "language": "python",
   "name": "conda-env-codingshophouse2-py"
  },
  "language_info": {
   "codemirror_mode": {
    "name": "ipython",
    "version": 3
   },
   "file_extension": ".py",
   "mimetype": "text/x-python",
   "name": "python",
   "nbconvert_exporter": "python",
   "pygments_lexer": "ipython3",
   "version": "3.5.2"
  }
 },
 "nbformat": 4,
 "nbformat_minor": 2
}
