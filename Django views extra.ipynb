{
 "cells": [
  {
   "cell_type": "markdown",
   "metadata": {},
   "source": [
    "There is actually shortcut for what we do yesterday. But what we do yesterday allow for customization\n",
    "\n",
    "First, create a directory called blog/templates/blog. Then create the following templates in the directory\n",
    "\n",
    "first blog/templates/blog/blogpost_detail.html"
   ]
  },
  {
   "cell_type": "code",
   "execution_count": null,
   "metadata": {
    "collapsed": true
   },
   "outputs": [],
   "source": [
    "<html>\n",
    "    <head><title>List View</title></head>\n",
    "    <body>\n",
    "            <p>{{object.title}}</p>\n",
    "            <p>{{object.content}}</p>\n",
    "    </body>\n",
    "</html>\n"
   ]
  },
  {
   "cell_type": "markdown",
   "metadata": {},
   "source": [
    "blog/templates/blog/blogpost_form.html"
   ]
  },
  {
   "cell_type": "code",
   "execution_count": null,
   "metadata": {
    "collapsed": true
   },
   "outputs": [],
   "source": [
    "<html>\n",
    "    <head><title>Form view</title></head>\n",
    "    <body>\n",
    "        <form action=\"\" method=\"post\">{% csrf_token %}\n",
    "            {{ form.as_p }}\n",
    "            <input type=\"submit\" value=\"Save\" />\n",
    "        </form>\n",
    "    </body>\n",
    "</html>\n"
   ]
  },
  {
   "cell_type": "markdown",
   "metadata": {},
   "source": [
    "blog/templates/blog/blogpost_list.html"
   ]
  },
  {
   "cell_type": "code",
   "execution_count": null,
   "metadata": {
    "collapsed": true
   },
   "outputs": [],
   "source": [
    "<html>\n",
    "<head><title>List View</title></head>\n",
    "<body>\n",
    "  {% for i in object_list %}\n",
    "  <p>{{i.title}}</p>\n",
    "  {% endfor %}\n",
    "</body>\n",
    "</html>\n"
   ]
  },
  {
   "cell_type": "markdown",
   "metadata": {},
   "source": [
    "You also need to add a method for models before continue"
   ]
  },
  {
   "cell_type": "code",
   "execution_count": null,
   "metadata": {
    "collapsed": true
   },
   "outputs": [],
   "source": [
    "from django.db import models\n",
    "from django.urls import reverse\n",
    "\n",
    "# Create your models here.\n",
    "class BlogPost(models.Model):\n",
    "    title = models.CharField(max_length=100)\n",
    "    content = models.TextField()\n",
    "\n",
    "    def get_absolute_url(self):\n",
    "        return reverse(\"blog-view\", kwargs={\"pk\":self.pk})\n",
    "\n",
    "    def __str__(self):\n",
    "        return self.title\n"
   ]
  },
  {
   "cell_type": "markdown",
   "metadata": {},
   "source": [
    "Now change all the views in blog/views.py into the following"
   ]
  },
  {
   "cell_type": "code",
   "execution_count": null,
   "metadata": {
    "collapsed": false
   },
   "outputs": [],
   "source": [
    "from django.views.generic import ListView\n",
    "from django.views.generic import DetailView\n",
    "from django.views.generic.edit import CreateView\n",
    "from django.views.generic.edit import UpdateView\n",
    "from django.views.generic.edit import DeleteView\n",
    "from blog.models import BlogPost\n",
    "from django.urls import reverse_lazy\n",
    "\n",
    "\n",
    "# Create your views here.\n",
    "class BlogListView(ListView):\n",
    "    model = BlogPost\n",
    "\n",
    "\n",
    "class BlogView(DetailView):\n",
    "    model = BlogPost\n",
    "\n",
    "class BlogCreateView(CreateView):\n",
    "    model = BlogPost\n",
    "    fields = [\"title\", \"content\"]\n",
    "\n",
    "\n",
    "class BlogEditView(UpdateView):\n",
    "    model = BlogPost\n",
    "    fields = [\"title\", \"content\"]\n",
    "\n",
    "\n",
    "class BlogDeleteView(DeleteView):\n",
    "    model = BlogPost\n",
    "    success_url = reverse_lazy(\"blog-list\")\n"
   ]
  },
  {
   "cell_type": "markdown",
   "metadata": {},
   "source": [
    "This take shorter code, but the previous views can have more logic. Choose one"
   ]
  },
  {
   "cell_type": "markdown",
   "metadata": {},
   "source": [
    "## Let clean up the templates"
   ]
  },
  {
   "cell_type": "markdown",
   "metadata": {},
   "source": [
    "So we start with some setup. Ceate a directory for {project_name}/templates. Then edit {project_name}/settings.py"
   ]
  },
  {
   "cell_type": "code",
   "execution_count": null,
   "metadata": {
    "collapsed": true
   },
   "outputs": [],
   "source": [
    "TEMPLATES = [\n",
    "    {\n",
    "        'BACKEND': 'django.template.backends.django.DjangoTemplates',\n",
    "        'DIRS': [ os.path.join(BASE_DIR, \"templates\") ],\n",
    "        'APP_DIRS': True,\n",
    "        'OPTIONS': {\n",
    "            'context_processors': [\n",
    "                'django.template.context_processors.debug',\n",
    "                'django.template.context_processors.request',\n",
    "                'django.contrib.auth.context_processors.auth',\n",
    "                'django.contrib.messages.context_processors.messages',\n",
    "            ],\n",
    "        },\n",
    "    },\n",
    "]\n"
   ]
  },
  {
   "cell_type": "markdown",
   "metadata": {},
   "source": [
    "Essentially change DIRS into that format. Now add a templates called {project_name}/templates/base.html"
   ]
  },
  {
   "cell_type": "code",
   "execution_count": null,
   "metadata": {
    "collapsed": true
   },
   "outputs": [],
   "source": [
    "<html>\n",
    "    <head><title>{% block title %}{% endblock %}</title>\n",
    "    </head>\n",
    "    <body>\n",
    "        {% block content %}{% endblock %}\n",
    "    </body>\n",
    "</html>\n"
   ]
  },
  {
   "cell_type": "markdown",
   "metadata": {},
   "source": [
    "Now change the create form in blog/templates/form/blogpost_form.html"
   ]
  },
  {
   "cell_type": "code",
   "execution_count": null,
   "metadata": {
    "collapsed": true
   },
   "outputs": [],
   "source": [
    "{% extends \"base.html\" %}\n",
    "{% block content %}\n",
    "        <form action=\"\" method=\"post\">{% csrf_token %}\n",
    "            {{ form.as_p }}\n",
    "            <input type=\"submit\" value=\"Save\" />\n",
    "        </form>\n",
    "{% endblock %}\n"
   ]
  },
  {
   "cell_type": "markdown",
   "metadata": {},
   "source": [
    "Edit the template for detail"
   ]
  },
  {
   "cell_type": "code",
   "execution_count": null,
   "metadata": {
    "collapsed": true
   },
   "outputs": [],
   "source": [
    "{% extends \"base.html\" %}\n",
    "{% block content %}\n",
    "    <p>{{object.title}}</p>\n",
    "    <p>{{object.content}}</p>\n",
    "{% endblock %}\n"
   ]
  },
  {
   "cell_type": "markdown",
   "metadata": {},
   "source": [
    "Now change tthe template blog/templates/form/blogpost_list.html"
   ]
  },
  {
   "cell_type": "code",
   "execution_count": null,
   "metadata": {
    "collapsed": true
   },
   "outputs": [],
   "source": [
    "{% extends \"base.html\" %}\n",
    "{% block content %}\n",
    "{% for i in object_list %}\n",
    "  <p>{{i.title}}</p>\n",
    "  {% endfor %}\n",
    "{% endblock %}\n"
   ]
  },
  {
   "cell_type": "markdown",
   "metadata": {},
   "source": [
    "First thing you learn here is template inheritance. Also I will take the opportunity to explain the template engine syntax.\n",
    "\n",
    "Does {{ }} means it is a value from the views. The dictionary we pass render function. "
   ]
  },
  {
   "cell_type": "code",
   "execution_count": null,
   "metadata": {
    "collapsed": true
   },
   "outputs": [],
   "source": [
    "{{value}}\n"
   ]
  },
  {
   "cell_type": "markdown",
   "metadata": {},
   "source": [
    "If you want to refer a key in dictionary and a method name/ property you use ."
   ]
  },
  {
   "cell_type": "code",
   "execution_count": null,
   "metadata": {
    "collapsed": true
   },
   "outputs": [],
   "source": [
    "{{value.something}}"
   ]
  },
  {
   "cell_type": "markdown",
   "metadata": {},
   "source": [
    "{% %} is for special template function. "
   ]
  },
  {
   "cell_type": "code",
   "execution_count": null,
   "metadata": {
    "collapsed": true
   },
   "outputs": [],
   "source": [
    "{% extends %}"
   ]
  },
  {
   "cell_type": "markdown",
   "metadata": {},
   "source": [
    "Some function need to open and close. for example {% block %} and {% for %}. You just put {% endblock %} or {% endfor %}"
   ]
  },
  {
   "cell_type": "markdown",
   "metadata": {},
   "source": [
    "Finally I am going to just add a for and show you that you can show value in links. "
   ]
  },
  {
   "cell_type": "code",
   "execution_count": null,
   "metadata": {
    "collapsed": true
   },
   "outputs": [],
   "source": [
    "{% extends \"base.html\" %}\n",
    "{% block title %}List View{% endblock %}\n",
    "{% block content %}\n",
    "{% for i in object_list %}\n",
    "<p><a href=\"{{i.get_absolute_url}}\">{% if i.title %}{{i.title}}{% else %}No title for {{i.id}}{% endif %}</a></p>\n",
    "  {% endfor %}\n",
    "{% endblock %}\n"
   ]
  },
  {
   "cell_type": "markdown",
   "metadata": {},
   "source": [
    "I just want to show the if function. Also the fact that you can call i even I is a methosd of a class"
   ]
  },
  {
   "cell_type": "markdown",
   "metadata": {},
   "source": [
    "Just for kicks, lets add something into the views. Update the import so that it look like the top. And update the BlogListView with get_context_data method like below. \n",
    "\n",
    "You can copy the get_context_data and put it in all views is you want to."
   ]
  },
  {
   "cell_type": "code",
   "execution_count": null,
   "metadata": {
    "collapsed": true
   },
   "outputs": [],
   "source": [
    "from django.views.generic import ListView\n",
    "from django.views.generic import DetailView\n",
    "from django.views.generic.edit import CreateView\n",
    "from django.views.generic.edit import UpdateView\n",
    "from django.views.generic.edit import DeleteView\n",
    "from blog.models import BlogPost\n",
    "from django.urls import reverse_lazy\n",
    "import datetime\n",
    "\n",
    "\n",
    "# Create your views here.\n",
    "class BlogListView(ListView):\n",
    "    model = BlogPost\n",
    "\n",
    "    def get_context_data(self, **kwargs):\n",
    "        context = super().get_context_data(**kwargs)\n",
    "        context[\"now\"] = datetime.datetime.now()\n",
    "        context[\"misc\"] = {\"a\":1, \"b\":2}\n",
    "        return context\n"
   ]
  },
  {
   "cell_type": "markdown",
   "metadata": {},
   "source": [
    "Now update templates/base.html into"
   ]
  },
  {
   "cell_type": "code",
   "execution_count": null,
   "metadata": {
    "collapsed": true
   },
   "outputs": [],
   "source": [
    "<html>\n",
    "    <head><title>{% block title %}{% endblock %}</title></head>\n",
    "    {% block extra_head %} {% endblock %}\n",
    "    <body>\n",
    "        <p>{{ now }}</p>\n",
    "        <p>{{ misc.a }}</p>\n",
    "        {% block content %}{% endblock %}\n",
    "    </body>\n",
    "</html>"
   ]
  }
 ],
 "metadata": {
  "anaconda-cloud": {},
  "kernelspec": {
   "display_name": "Python [conda env:codingshophouse2]",
   "language": "python",
   "name": "conda-env-codingshophouse2-py"
  },
  "language_info": {
   "codemirror_mode": {
    "name": "ipython",
    "version": 3
   },
   "file_extension": ".py",
   "mimetype": "text/x-python",
   "name": "python",
   "nbconvert_exporter": "python",
   "pygments_lexer": "ipython3",
   "version": "3.5.2"
  }
 },
 "nbformat": 4,
 "nbformat_minor": 2
}
